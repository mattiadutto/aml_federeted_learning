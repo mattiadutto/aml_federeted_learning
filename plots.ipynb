{
 "cells": [
  {
   "cell_type": "code",
   "execution_count": null,
   "metadata": {},
   "outputs": [],
   "source": [
    "import matplotlib.pyplot as plt\n",
    "import numpy as np\n",
    "import json\n",
    "\n",
    "x = np.array(range(500)) \n",
    "xlabels = x #* 5 # convert to string\n",
    "\n",
    "def plot(title, x, y_arrays, labels):\n",
    "    plt.figure()\n",
    "\n",
    "    x = np.array(x)\n",
    "    for value, label in zip(y_arrays, labels):\n",
    "        \n",
    "        value = np.array(value)\n",
    "        plt.plot(x, value, label=label)\n",
    "\n",
    "    plt.title(title)\n",
    "\n",
    "    #plt.xlabel(xlabels)\n",
    "\n",
    "    plt.legend()\n",
    "    plt.savefig(\"./img/\" + title + \".jpg\", dpi = 150, bbox_inches = 'tight')\n",
    "    plt.show()\n",
    "\n",
    "def parseJSON(filename):\n",
    "    dict = {}\n",
    "    with open(filename) as f:\n",
    "        dict = json.load(f)\n",
    "\n",
    "    K = None\n",
    "    E = None\n",
    "    alpha = None\n",
    "    accuracies = None\n",
    "    if \"config\" in dict.keys():\n",
    "        K = dict[\"config\"][\"K\"]\n",
    "        E = dict[\"config\"][\"E\"]\n",
    "    if \"alpha\" in dict.keys():\n",
    "        alpha = dict[\"alpha\"]\n",
    "    if \"accuracy\" in dict.keys():\n",
    "        accuracies = dict[\"accuracy\"]\n",
    "\n",
    "    return K, E, alpha, accuracies\n",
    "\n",
    "K, E, alpha, accuracies = parseJSON(\"artifacts/testJson.json\")\n",
    "_, _, alpha_100, accuracies_100 = parseJSON(\"artifacts/testJson100.json\")\n",
    "\n",
    "plot(f\"K = {K}, E = {E}, alpha = {alpha}\", x, [accuracies, accuracies_100], [alpha, alpha_100])"
   ]
  },
  {
   "cell_type": "code",
   "execution_count": null,
   "metadata": {},
   "outputs": [],
   "source": []
  }
 ],
 "metadata": {
  "interpreter": {
   "hash": "aee8b7b246df8f9039afb4144a1f6fd8d2ca17a180786b69acc140d282b71a49"
  },
  "kernelspec": {
   "display_name": "Python 3.9.7 64-bit",
   "language": "python",
   "name": "python3"
  },
  "language_info": {
   "codemirror_mode": {
    "name": "ipython",
    "version": 3
   },
   "file_extension": ".py",
   "mimetype": "text/x-python",
   "name": "python",
   "nbconvert_exporter": "python",
   "pygments_lexer": "ipython3",
   "version": "3.9.7"
  },
  "orig_nbformat": 4
 },
 "nbformat": 4,
 "nbformat_minor": 2
}
