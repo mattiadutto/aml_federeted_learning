{
  "cells": [
    {
      "cell_type": "markdown",
      "metadata": {
        "id": "KRyFWIxiPEVX"
      },
      "source": [
        "# Baseline implementation"
      ]
    },
    {
      "cell_type": "code",
      "execution_count": 3,
      "metadata": {
        "colab": {
          "base_uri": "https://localhost:8080/"
        },
        "id": "tN9_GO3YcGI9",
        "outputId": "91c6800f-7d8d-496d-92d5-0cabcc8f2571"
      },
      "outputs": [
        {
          "output_type": "stream",
          "name": "stdout",
          "text": [
            "\u001b[K     |████████████████████████████████| 1.7 MB 12.7 MB/s \n",
            "\u001b[K     |████████████████████████████████| 97 kB 7.2 MB/s \n",
            "\u001b[K     |████████████████████████████████| 180 kB 48.6 MB/s \n",
            "\u001b[K     |████████████████████████████████| 140 kB 51.4 MB/s \n",
            "\u001b[K     |████████████████████████████████| 63 kB 1.5 MB/s \n",
            "\u001b[?25h  Building wheel for subprocess32 (setup.py) ... \u001b[?25l\u001b[?25hdone\n",
            "  Building wheel for pathtools (setup.py) ... \u001b[?25l\u001b[?25hdone\n"
          ]
        }
      ],
      "source": [
        "%pip install wandb --quiet"
      ]
    },
    {
      "cell_type": "code",
      "execution_count": 1,
      "metadata": {
        "colab": {
          "base_uri": "https://localhost:8080/"
        },
        "id": "d7iCHpO-d0SR",
        "outputId": "cd93d00b-fcb4-47eb-a134-813620606cb6"
      },
      "outputs": [
        {
          "output_type": "stream",
          "name": "stdout",
          "text": [
            "--2022-01-10 07:42:14--  http://storage.googleapis.com/gresearch/federated-vision-datasets/cifar10.zip\n",
            "Resolving storage.googleapis.com (storage.googleapis.com)... 74.125.133.128, 74.125.140.128, 108.177.15.128, ...\n",
            "Connecting to storage.googleapis.com (storage.googleapis.com)|74.125.133.128|:80... connected.\n",
            "HTTP request sent, awaiting response... 200 OK\n",
            "Length: 1627997 (1.6M) [application/zip]\n",
            "Saving to: ‘cifar10.zip’\n",
            "\n",
            "\rcifar10.zip           0%[                    ]       0  --.-KB/s               \rcifar10.zip         100%[===================>]   1.55M  --.-KB/s    in 0.006s  \n",
            "\n",
            "2022-01-10 07:42:14 (255 MB/s) - ‘cifar10.zip’ saved [1627997/1627997]\n",
            "\n",
            "Archive:  cifar10.zip\n",
            "   creating: cifar10/\n",
            "  inflating: cifar10/federated_train_alpha_0.00.csv  \n",
            "  inflating: cifar10/test.csv        \n",
            "  inflating: cifar10/federated_train_alpha_10.00.csv  \n",
            "  inflating: cifar10/federated_train_alpha_0.05.csv  \n",
            "  inflating: cifar10/federated_train_alpha_100.00.csv  \n",
            "  inflating: cifar10/federated_train_alpha_0.10.csv  \n",
            "  inflating: cifar10/federated_train_alpha_0.20.csv  \n",
            "  inflating: cifar10/federated_train_alpha_1.00.csv  \n",
            "  inflating: cifar10/federated_train_alpha_0.50.csv  \n"
          ]
        }
      ],
      "source": [
        "!wget http://storage.googleapis.com/gresearch/federated-vision-datasets/cifar10.zip\n",
        "!unzip cifar10.zip"
      ]
    },
    {
      "cell_type": "code",
      "execution_count": 10,
      "metadata": {
        "colab": {
          "base_uri": "https://localhost:8080/",
          "height": 17
        },
        "id": "X82NHRCAcXLl",
        "outputId": "c35a4fc3-0ef5-4c94-d80b-beba0d4adc80"
      },
      "outputs": [
        {
          "output_type": "execute_result",
          "data": {
            "application/vnd.google.colaboratory.intrinsic+json": {
              "type": "string"
            },
            "text/plain": [
              ""
            ]
          },
          "metadata": {},
          "execution_count": 10
        }
      ],
      "source": [
        "import wandb\n",
        "\n",
        "wandb.init(project=\"step-2\", entity=\"aml-federated-learning\", mode=\"disabled\")"
      ]
    },
    {
      "cell_type": "code",
      "execution_count": 11,
      "metadata": {
        "id": "ww5uiZ6HfmBd"
      },
      "outputs": [],
      "source": [
        "E = 5\n",
        "STEP_SIZE = 5\n",
        "GAMMA = 0.1\n",
        "\n",
        "# K = 1, NUMBE_OR_CLIENTS = 2, MAX_TIME = 3 -> 58 sec\n",
        "\n",
        "K = 10 # to set\n",
        "NUMBER_OF_CLIENTS = 100 # to set\n",
        "MAX_TIME = 1000 #to set\n",
        "\n",
        "batch_size = 50\n",
        "\n",
        "lr = 0.25\n",
        "\n",
        "DATA_DISTRIBUTION = \"iid\" # \"iid\" | \"non-iid\"\n",
        "DIRICHELET_ALPHA = 0.05 # 0.00, 0.05, 0.10, 0.20, 0.50, 1.00, 10.00, 100.0\n",
        "\n",
        "FED_AVG_M = False # False | True -> False = Fed_Avg\n",
        "if FED_AVG_M:\n",
        "    FED_AVG_M_BETA = 0.9  \n",
        "    FED_AVG_M_GAMMA = 1\n",
        "\n",
        "LR_DECAY = 0.99\n",
        "\n",
        "device = \"cuda\" # \"cpu\" | \"cuda\"\n",
        "\n",
        "#assert(DATA_DISTRIBUTION == \"iid\" or NUMBER_OF_CLIENTS == 100)\n",
        "\n",
        "wandb.config.update({\n",
        "    \"batch-size\": batch_size,\n",
        "    \"learning-rate\": lr,\n",
        "    # \"momentum\": MOMENTUM,\n",
        "    # \"weight_decay\": WEIGHT_DECAY,\n",
        "    \"num_epochs\": E,\n",
        "    \"step_size\": STEP_SIZE,\n",
        "    \"gamma\": GAMMA,\n",
        "    \"K\": K,\n",
        "    \"number_of_clients\": NUMBER_OF_CLIENTS,\n",
        "    \"max_time\": MAX_TIME,\n",
        "    \"data_distribution\": DATA_DISTRIBUTION,\n",
        "    \"dirichelet_alpha\": DIRICHELET_ALPHA\n",
        "})"
      ]
    },
    {
      "cell_type": "code",
      "execution_count": 21,
      "metadata": {
        "colab": {
          "base_uri": "https://localhost:8080/"
        },
        "id": "5Ar1b6p68b3G",
        "outputId": "14b318d7-1363-49b2-8239-07b8606cd940"
      },
      "outputs": [
        {
          "output_type": "stream",
          "name": "stdout",
          "text": [
            "Net(\n",
            "  (conv1): Conv2d(3, 64, kernel_size=(5, 5), stride=(1, 1))\n",
            "  (conv2): Conv2d(64, 64, kernel_size=(5, 5), stride=(1, 1))\n",
            "  (fc1): Linear(in_features=576, out_features=384, bias=True)\n",
            "  (fc2): Linear(in_features=384, out_features=192, bias=True)\n",
            "  (fc3): Linear(in_features=192, out_features=10, bias=True)\n",
            ")\n"
          ]
        }
      ],
      "source": [
        "import torch\n",
        "import torch.nn as nn\n",
        "import torch.nn.functional as F\n",
        "\n",
        "# From: https://pytorch.org/tutorials/beginner/blitz/neural_networks_tutorial.html\n",
        "class Net(nn.Module):\n",
        "\n",
        "    def __init__(self):\n",
        "        super(Net, self).__init__()\n",
        "        # 1 input image channel, 6 output channels, 5x5 square convolution\n",
        "        # kernel\n",
        "        self.conv1 = nn.Conv2d(3, 64, 5)\n",
        "        self.conv2 = nn.Conv2d(64, 64, 5)\n",
        "        # an affine operation: y = Wx + b\n",
        "        self.fc1 = nn.Linear(576, 384)  # 5*5 from image dimension  # <- 50x576 and 1600x384\n",
        "        self.fc2 = nn.Linear(384, 192)\n",
        "        self.fc3 = nn.Linear(192, 10)\n",
        "\n",
        "    def forward(self, x):\n",
        "        # Max pooling over a (2, 2) window\n",
        "        x = F.max_pool2d(F.relu(self.conv1(x)), (2, 2))\n",
        "        # If the size is a square, you can specify with a single number\n",
        "        x = F.max_pool2d(F.relu(self.conv2(x)), 2)\n",
        "        x = torch.flatten(x, 1) # flatten all dimensions except the batch dimension\n",
        "        x = F.relu(self.fc1(x))\n",
        "        x = F.relu(self.fc2(x))\n",
        "        x = self.fc3(x)\n",
        "        return x\n",
        "\n",
        "\n",
        "net = Net()\n",
        "net = net.to(device)\n",
        "print(net)"
      ]
    },
    {
      "cell_type": "code",
      "execution_count": 22,
      "metadata": {
        "id": "eCwGFjE5Feil"
      },
      "outputs": [],
      "source": [
        "import torch.optim as optim\n",
        "\n",
        "class Client():\n",
        "  def __init__(self, i, train_set, validation_set):\n",
        "    self.i = i\n",
        "    self.train_set = train_set\n",
        "    self.batch_size = 32\n",
        "    self.train_loader = torch.utils.data.DataLoader(train_set, batch_size=batch_size,\n",
        "                                         shuffle=False, num_workers=0)\n",
        "    self.validation_loader = torch.utils.data.DataLoader(validation_set, batch_size=batch_size,\n",
        "                                         shuffle=False, num_workers=0)\n",
        "    self.net = Net()\n",
        "    self.net = self.net.to(device)\n",
        "    # create your optimizer\n",
        "    self.optimizer = optim.SGD(self.net.parameters(), lr=lr)\n",
        "    self.criterion = nn.CrossEntropyLoss()\n",
        "    if LR_DECAY is not None:\n",
        "      self.scheduler = optim.lr_scheduler.StepLR(self.optimizer, step_size=1, gamma=LR_DECAY)\n",
        "    wandb.watch(self.net, criterion=self.criterion, log_freq=100, log_graph=False)\n",
        "    \n",
        "  def clientUpdate(self, parameters):\n",
        "    self.net.load_state_dict(parameters)\n",
        "    theta = parameters\n",
        "    for e in range(E):\n",
        "      for images, labels in self.train_loader:\n",
        "        images = images.to(device)\n",
        "        labels = labels.to(device)\n",
        "        # in your training loop:\n",
        "        self.optimizer.zero_grad()   # zero the gradient buffers\n",
        "        output = self.net(images)\n",
        "        loss = self.criterion(output, labels)\n",
        "        loss.backward()\n",
        "        wandb.log({f\"client-loss-{self.i}\": loss.item()})\n",
        "        self.optimizer.step()    # Does the update\n",
        "\n",
        "    if LR_DECAY is not None:\n",
        "      self.scheduler.step()\n",
        "    \n",
        "    return_dict = {}\n",
        "    for (k1, v1), (k2, v2) in zip(parameters.items(), self.net.state_dict().items()):\n",
        "      return_dict[k1] = v1 - v2\n",
        "    return return_dict\n",
        "\n",
        "  def compute_accuracy(self, parameters):\n",
        "    self.net.load_state_dict(parameters)\n",
        "\n",
        "    running_corrects = 0\n",
        "    n = 0\n",
        "    for data, labels in self.validation_loader:\n",
        "        data = data.to(device)\n",
        "        labels = labels.to(device)\n",
        "\n",
        "        outputs = self.net(data)\n",
        "\n",
        "        _, preds = torch.max(outputs.data, 1)\n",
        "\n",
        "        running_corrects += torch.sum(preds == labels.data).data.item()\n",
        "        n += len(preds)\n",
        "\n",
        "                \n",
        "    return running_corrects / n\n"
      ]
    },
    {
      "cell_type": "code",
      "execution_count": 23,
      "metadata": {
        "id": "QcsNecZCVPP-"
      },
      "outputs": [],
      "source": [
        "from collections import defaultdict\n",
        "\n",
        "def parse_csv(filename):\n",
        "  splits = defaultdict(lambda: [])\n",
        "  with open(filename) as f:\n",
        "    for line in f:\n",
        "      if not line[0].isdigit():\n",
        "        continue\n",
        "\n",
        "      user_id, image_id, _ = (int(token) for token in line.split(\",\"))\n",
        "      splits[user_id].append(image_id)\n",
        "\n",
        "  return splits\n"
      ]
    },
    {
      "cell_type": "code",
      "execution_count": null,
      "metadata": {
        "colab": {
          "base_uri": "https://localhost:8080/",
          "height": 327,
          "referenced_widgets": [
            "ca2d1e830e2148afa5160cccb3be0115",
            "1ab281363292402099db22b86e787933",
            "64cbca342779453f912ab9151b2586a4",
            "a2c5482962a84b8893b8b34b7a07a989",
            "b875ab85c960471dbc80e85b579ccff7",
            "d049765efe46418085e2a3665b0bf52c",
            "87333d1cc11e48248a0c033627685c6a",
            "ce64a9a5b7634cc28f8d5044d727244e",
            "ebf27262b1d748aeb4215792e1754dc7",
            "2d1f3fb1fbd4492bb105279af0cfcbcb",
            "47d11162145c468cb30551159d6e0b2c"
          ]
        },
        "id": "gTmw78eJ-EW5",
        "outputId": "e5749cf8-3f24-48c0-9a2e-2e1919943d61"
      },
      "outputs": [
        {
          "output_type": "stream",
          "name": "stdout",
          "text": [
            "Files already downloaded and verified\n",
            "Files already downloaded and verified\n",
            "50000\n",
            "[500 500 500 500 500 500 500 500 500 500 500 500 500 500 500 500 500 500\n",
            " 500 500 500 500 500 500 500 500 500 500 500 500 500 500 500 500 500 500\n",
            " 500 500 500 500 500 500 500 500 500 500 500 500 500 500 500 500 500 500\n",
            " 500 500 500 500 500 500 500 500 500 500 500 500 500 500 500 500 500 500\n",
            " 500 500 500 500 500 500 500 500 500 500 500 500 500 500 500 500 500 500\n",
            " 500 500 500 500 500 500 500 500 500 500]\n",
            "10000\n"
          ]
        },
        {
          "output_type": "display_data",
          "data": {
            "application/vnd.jupyter.widget-view+json": {
              "model_id": "ca2d1e830e2148afa5160cccb3be0115",
              "version_minor": 0,
              "version_major": 2
            },
            "text/plain": [
              "  0%|          | 0/1000 [00:00<?, ?it/s]"
            ]
          },
          "metadata": {}
        },
        {
          "output_type": "stream",
          "name": "stdout",
          "text": [
            "Average accuracy after 0 rounds is 0.1343\n",
            "Average accuracy after 5 rounds is 0.2255\n",
            "Average accuracy after 10 rounds is 0.2594\n",
            "Average accuracy after 15 rounds is 0.28400000000000003\n",
            "Average accuracy after 20 rounds is 0.3065\n",
            "Average accuracy after 25 rounds is 0.3272\n"
          ]
        }
      ],
      "source": [
        "import torchvision\n",
        "import torchvision.transforms as transforms\n",
        "import numpy as np\n",
        "import random\n",
        "from statistics import mean\n",
        "\n",
        "from tqdm.notebook import tqdm, trange\n",
        "\n",
        "random.seed(42)\n",
        "\n",
        "transform = transforms.Compose(\n",
        "    [transforms.ToTensor(),\n",
        "     transforms.CenterCrop(24),\n",
        "     transforms.RandomHorizontalFlip(),\n",
        "     transforms.ColorJitter(0.5, 0.5),\n",
        "     transforms.Normalize((0.5, 0.5, 0.5), (0.5, 0.5, 0.5))])\n",
        "\n",
        "trainset = torchvision.datasets.CIFAR10(root='./data', train=True,\n",
        "                                        download=True, transform=transform)\n",
        "\n",
        "testset = torchvision.datasets.CIFAR10(root='./data', train=False,\n",
        "                                       download=True, transform = transform)\n",
        "\n",
        "\n",
        "if DATA_DISTRIBUTION == \"iid\":\n",
        "  # split the training set\n",
        "  trainset_len = ( len(trainset) // NUMBER_OF_CLIENTS ) * NUMBER_OF_CLIENTS\n",
        "  print(trainset_len)\n",
        "  trainset = torch.utils.data.Subset(trainset, list(range(trainset_len)))\n",
        "\n",
        "  lengths = len(trainset) // NUMBER_OF_CLIENTS * np.ones(NUMBER_OF_CLIENTS, dtype=np.int)\n",
        "  print(lengths)\n",
        "  trainsets = torch.utils.data.random_split(dataset=trainset, lengths=lengths)\n",
        "else:\n",
        "  dirichelet_splits = parse_csv(f\"cifar10/federated_train_alpha_{DIRICHELET_ALPHA:.2f}.csv\")\n",
        "  trainsets = [torch.utils.data.Subset(trainset, indices) for indices in dirichelet_splits.values()]\n",
        "\n",
        "\n",
        "# split the validation set\n",
        "testset_len = ( len(testset) // NUMBER_OF_CLIENTS ) * NUMBER_OF_CLIENTS\n",
        "print(testset_len)\n",
        "testset = torch.utils.data.Subset(testset, list(range(testset_len)))\n",
        "\n",
        "lengths = len(testset) // NUMBER_OF_CLIENTS * np.ones(NUMBER_OF_CLIENTS, dtype=np.int)\n",
        "# print(lengths)\n",
        "testsets = torch.utils.data.random_split(dataset=testset, lengths=lengths)\n",
        "\n",
        "\n",
        "clientsSizes = torch.zeros(NUMBER_OF_CLIENTS)\n",
        "clients = list()\n",
        "\n",
        "def selectClients(k):\n",
        "  return random.choices(clients, k=k)\n",
        "\n",
        "def aggregateClient(deltaThetas):\n",
        "  parameters = None\n",
        "  for i,d in enumerate(deltaThetas):\n",
        "    ratio = len(trainsets[i])/len(trainset)\n",
        "    \n",
        "    if i == 0:\n",
        "      parameters = {k:ratio*v for k, v in d.items()}\n",
        "    else:\n",
        "      for (k, v) in d.items():\n",
        "        parameters[k] += ratio * v\n",
        "   \n",
        "  return parameters\n",
        "\n",
        "for c in range(NUMBER_OF_CLIENTS):\n",
        "  clients.append(Client(c, trainsets[c], testsets[c]))\n",
        "\n",
        "if FED_AVG_M:\n",
        "  old_parameters = {}\n",
        "\n",
        "for step in tqdm(range(MAX_TIME)):\n",
        "#for t in range(MAX_TIME):\n",
        "  selected_clients = selectClients(K)\n",
        "  #print(f\"Client(s) {[client.i for client in selected_clients]} selected\")\n",
        "\n",
        "  deltaThetas = list()\n",
        "  for i, c in enumerate(selected_clients):\n",
        "    deltaThetas.append(c.clientUpdate(net.state_dict()))\n",
        "    \n",
        "  g = aggregateClient(deltaThetas)\n",
        "  \n",
        "  parameters = {}\n",
        "  for (k1, v1), (k2, v2) in zip(net.state_dict().items(), g.items()):\n",
        "    \n",
        "    if FED_AVG_M:\n",
        "      if k1 in old_paramters:\n",
        "        parameters[k1] = v1 - FED_AVG_M_GAMMA * (FED_AVG_M_BETA * old_parameters[k1] + v2)  \n",
        "        old_parameters[k1] = FED_AVG_M_BETA * old_parameters[k1] + v2\n",
        "      else:\n",
        "        parameters[k1] = v1 - FED_AVG_M_GAMMA * v2\n",
        "        old_parameters[k1] = v2\n",
        "        \n",
        "    else:\n",
        "      parameters[k1] = v1 - v2 # todo: add server learning rate gamma\n",
        "\n",
        "  net.load_state_dict(parameters)\n",
        "\n",
        "  if step % 5 == 0:\n",
        "    model_parameters = net.state_dict()\n",
        "    avg_accuracy = mean(client.compute_accuracy(model_parameters) for client in clients)\n",
        "\n",
        "    print(f\"Average accuracy after {step} rounds is {avg_accuracy}\")"
      ]
    },
    {
      "cell_type": "code",
      "execution_count": null,
      "metadata": {
        "id": "lj2oqawRbnF-"
      },
      "outputs": [],
      "source": [
        "from collections import Counter\n",
        "\n",
        "print(Counter(label for _, label in iter(trainsets[0])))\n",
        "print(Counter(label for _, label in iter(trainsets[1])))\n",
        "print(Counter(label for _, label in iter(trainsets[2])))"
      ]
    },
    {
      "cell_type": "code",
      "execution_count": null,
      "metadata": {
        "id": "utb7E9snmQwi"
      },
      "outputs": [],
      "source": [
        "from statistics import mean\n",
        "\n",
        "model_parameters = net.state_dict()\n",
        "avg_accuracy = mean(client.compute_accuracy(model_parameters) for client in clients)\n",
        "\n",
        "print(f\"Average accuracy after {MAX_TIME} rounds is {avg_accuracy}\")"
      ]
    },
    {
      "cell_type": "code",
      "execution_count": null,
      "metadata": {
        "id": "4yo5tYPNmxQz"
      },
      "outputs": [],
      "source": [
        "import time\n",
        "\n",
        "timestr = time.strftime(\"%Y_%m_%d-%I_%M_%S_%p\")\n",
        "artifact_filename = f\"artifacts/server_model-{timestr}.pth\"\n",
        "\n",
        "# parameters of the trained model\n",
        "server_model = net.state_dict()\n",
        "# save the model on the local file system\n",
        "torch.save(server_model, artifact_filename)\n",
        "# save the model on wandb\n",
        "wandb.save(artifact_filename)\n",
        "\n",
        "# Finish the wandb session and upload all data\n",
        "wandb.finish(0, quiet=False)"
      ]
    }
  ],
  "metadata": {
    "accelerator": "GPU",
    "colab": {
      "collapsed_sections": [],
      "name": "aml.ipynb",
      "provenance": []
    },
    "kernelspec": {
      "display_name": "Python 3",
      "name": "python3"
    },
    "language_info": {
      "codemirror_mode": {
        "name": "ipython",
        "version": 3
      },
      "file_extension": ".py",
      "mimetype": "text/x-python",
      "name": "python",
      "nbconvert_exporter": "python",
      "pygments_lexer": "ipython3",
      "version": "3.9.9"
    },
    "widgets": {
      "application/vnd.jupyter.widget-state+json": {
        "ca2d1e830e2148afa5160cccb3be0115": {
          "model_module": "@jupyter-widgets/controls",
          "model_name": "HBoxModel",
          "model_module_version": "1.5.0",
          "state": {
            "_view_name": "HBoxView",
            "_dom_classes": [],
            "_model_name": "HBoxModel",
            "_view_module": "@jupyter-widgets/controls",
            "_model_module_version": "1.5.0",
            "_view_count": null,
            "_view_module_version": "1.5.0",
            "box_style": "",
            "layout": "IPY_MODEL_1ab281363292402099db22b86e787933",
            "_model_module": "@jupyter-widgets/controls",
            "children": [
              "IPY_MODEL_64cbca342779453f912ab9151b2586a4",
              "IPY_MODEL_a2c5482962a84b8893b8b34b7a07a989",
              "IPY_MODEL_b875ab85c960471dbc80e85b579ccff7"
            ]
          }
        },
        "1ab281363292402099db22b86e787933": {
          "model_module": "@jupyter-widgets/base",
          "model_name": "LayoutModel",
          "model_module_version": "1.2.0",
          "state": {
            "_view_name": "LayoutView",
            "grid_template_rows": null,
            "right": null,
            "justify_content": null,
            "_view_module": "@jupyter-widgets/base",
            "overflow": null,
            "_model_module_version": "1.2.0",
            "_view_count": null,
            "flex_flow": null,
            "width": null,
            "min_width": null,
            "border": null,
            "align_items": null,
            "bottom": null,
            "_model_module": "@jupyter-widgets/base",
            "top": null,
            "grid_column": null,
            "overflow_y": null,
            "overflow_x": null,
            "grid_auto_flow": null,
            "grid_area": null,
            "grid_template_columns": null,
            "flex": null,
            "_model_name": "LayoutModel",
            "justify_items": null,
            "grid_row": null,
            "max_height": null,
            "align_content": null,
            "visibility": null,
            "align_self": null,
            "height": null,
            "min_height": null,
            "padding": null,
            "grid_auto_rows": null,
            "grid_gap": null,
            "max_width": null,
            "order": null,
            "_view_module_version": "1.2.0",
            "grid_template_areas": null,
            "object_position": null,
            "object_fit": null,
            "grid_auto_columns": null,
            "margin": null,
            "display": null,
            "left": null
          }
        },
        "64cbca342779453f912ab9151b2586a4": {
          "model_module": "@jupyter-widgets/controls",
          "model_name": "HTMLModel",
          "model_module_version": "1.5.0",
          "state": {
            "_view_name": "HTMLView",
            "style": "IPY_MODEL_d049765efe46418085e2a3665b0bf52c",
            "_dom_classes": [],
            "description": "",
            "_model_name": "HTMLModel",
            "placeholder": "​",
            "_view_module": "@jupyter-widgets/controls",
            "_model_module_version": "1.5.0",
            "value": "  3%",
            "_view_count": null,
            "_view_module_version": "1.5.0",
            "description_tooltip": null,
            "_model_module": "@jupyter-widgets/controls",
            "layout": "IPY_MODEL_87333d1cc11e48248a0c033627685c6a"
          }
        },
        "a2c5482962a84b8893b8b34b7a07a989": {
          "model_module": "@jupyter-widgets/controls",
          "model_name": "FloatProgressModel",
          "model_module_version": "1.5.0",
          "state": {
            "_view_name": "ProgressView",
            "style": "IPY_MODEL_ce64a9a5b7634cc28f8d5044d727244e",
            "_dom_classes": [],
            "description": "",
            "_model_name": "FloatProgressModel",
            "bar_style": "",
            "max": 1000,
            "_view_module": "@jupyter-widgets/controls",
            "_model_module_version": "1.5.0",
            "value": 27,
            "_view_count": null,
            "_view_module_version": "1.5.0",
            "orientation": "horizontal",
            "min": 0,
            "description_tooltip": null,
            "_model_module": "@jupyter-widgets/controls",
            "layout": "IPY_MODEL_ebf27262b1d748aeb4215792e1754dc7"
          }
        },
        "b875ab85c960471dbc80e85b579ccff7": {
          "model_module": "@jupyter-widgets/controls",
          "model_name": "HTMLModel",
          "model_module_version": "1.5.0",
          "state": {
            "_view_name": "HTMLView",
            "style": "IPY_MODEL_2d1f3fb1fbd4492bb105279af0cfcbcb",
            "_dom_classes": [],
            "description": "",
            "_model_name": "HTMLModel",
            "placeholder": "​",
            "_view_module": "@jupyter-widgets/controls",
            "_model_module_version": "1.5.0",
            "value": " 27/1000 [09:50&lt;5:58:12, 22.09s/it]",
            "_view_count": null,
            "_view_module_version": "1.5.0",
            "description_tooltip": null,
            "_model_module": "@jupyter-widgets/controls",
            "layout": "IPY_MODEL_47d11162145c468cb30551159d6e0b2c"
          }
        },
        "d049765efe46418085e2a3665b0bf52c": {
          "model_module": "@jupyter-widgets/controls",
          "model_name": "DescriptionStyleModel",
          "model_module_version": "1.5.0",
          "state": {
            "_view_name": "StyleView",
            "_model_name": "DescriptionStyleModel",
            "description_width": "",
            "_view_module": "@jupyter-widgets/base",
            "_model_module_version": "1.5.0",
            "_view_count": null,
            "_view_module_version": "1.2.0",
            "_model_module": "@jupyter-widgets/controls"
          }
        },
        "87333d1cc11e48248a0c033627685c6a": {
          "model_module": "@jupyter-widgets/base",
          "model_name": "LayoutModel",
          "model_module_version": "1.2.0",
          "state": {
            "_view_name": "LayoutView",
            "grid_template_rows": null,
            "right": null,
            "justify_content": null,
            "_view_module": "@jupyter-widgets/base",
            "overflow": null,
            "_model_module_version": "1.2.0",
            "_view_count": null,
            "flex_flow": null,
            "width": null,
            "min_width": null,
            "border": null,
            "align_items": null,
            "bottom": null,
            "_model_module": "@jupyter-widgets/base",
            "top": null,
            "grid_column": null,
            "overflow_y": null,
            "overflow_x": null,
            "grid_auto_flow": null,
            "grid_area": null,
            "grid_template_columns": null,
            "flex": null,
            "_model_name": "LayoutModel",
            "justify_items": null,
            "grid_row": null,
            "max_height": null,
            "align_content": null,
            "visibility": null,
            "align_self": null,
            "height": null,
            "min_height": null,
            "padding": null,
            "grid_auto_rows": null,
            "grid_gap": null,
            "max_width": null,
            "order": null,
            "_view_module_version": "1.2.0",
            "grid_template_areas": null,
            "object_position": null,
            "object_fit": null,
            "grid_auto_columns": null,
            "margin": null,
            "display": null,
            "left": null
          }
        },
        "ce64a9a5b7634cc28f8d5044d727244e": {
          "model_module": "@jupyter-widgets/controls",
          "model_name": "ProgressStyleModel",
          "model_module_version": "1.5.0",
          "state": {
            "_view_name": "StyleView",
            "_model_name": "ProgressStyleModel",
            "description_width": "",
            "_view_module": "@jupyter-widgets/base",
            "_model_module_version": "1.5.0",
            "_view_count": null,
            "_view_module_version": "1.2.0",
            "bar_color": null,
            "_model_module": "@jupyter-widgets/controls"
          }
        },
        "ebf27262b1d748aeb4215792e1754dc7": {
          "model_module": "@jupyter-widgets/base",
          "model_name": "LayoutModel",
          "model_module_version": "1.2.0",
          "state": {
            "_view_name": "LayoutView",
            "grid_template_rows": null,
            "right": null,
            "justify_content": null,
            "_view_module": "@jupyter-widgets/base",
            "overflow": null,
            "_model_module_version": "1.2.0",
            "_view_count": null,
            "flex_flow": null,
            "width": null,
            "min_width": null,
            "border": null,
            "align_items": null,
            "bottom": null,
            "_model_module": "@jupyter-widgets/base",
            "top": null,
            "grid_column": null,
            "overflow_y": null,
            "overflow_x": null,
            "grid_auto_flow": null,
            "grid_area": null,
            "grid_template_columns": null,
            "flex": null,
            "_model_name": "LayoutModel",
            "justify_items": null,
            "grid_row": null,
            "max_height": null,
            "align_content": null,
            "visibility": null,
            "align_self": null,
            "height": null,
            "min_height": null,
            "padding": null,
            "grid_auto_rows": null,
            "grid_gap": null,
            "max_width": null,
            "order": null,
            "_view_module_version": "1.2.0",
            "grid_template_areas": null,
            "object_position": null,
            "object_fit": null,
            "grid_auto_columns": null,
            "margin": null,
            "display": null,
            "left": null
          }
        },
        "2d1f3fb1fbd4492bb105279af0cfcbcb": {
          "model_module": "@jupyter-widgets/controls",
          "model_name": "DescriptionStyleModel",
          "model_module_version": "1.5.0",
          "state": {
            "_view_name": "StyleView",
            "_model_name": "DescriptionStyleModel",
            "description_width": "",
            "_view_module": "@jupyter-widgets/base",
            "_model_module_version": "1.5.0",
            "_view_count": null,
            "_view_module_version": "1.2.0",
            "_model_module": "@jupyter-widgets/controls"
          }
        },
        "47d11162145c468cb30551159d6e0b2c": {
          "model_module": "@jupyter-widgets/base",
          "model_name": "LayoutModel",
          "model_module_version": "1.2.0",
          "state": {
            "_view_name": "LayoutView",
            "grid_template_rows": null,
            "right": null,
            "justify_content": null,
            "_view_module": "@jupyter-widgets/base",
            "overflow": null,
            "_model_module_version": "1.2.0",
            "_view_count": null,
            "flex_flow": null,
            "width": null,
            "min_width": null,
            "border": null,
            "align_items": null,
            "bottom": null,
            "_model_module": "@jupyter-widgets/base",
            "top": null,
            "grid_column": null,
            "overflow_y": null,
            "overflow_x": null,
            "grid_auto_flow": null,
            "grid_area": null,
            "grid_template_columns": null,
            "flex": null,
            "_model_name": "LayoutModel",
            "justify_items": null,
            "grid_row": null,
            "max_height": null,
            "align_content": null,
            "visibility": null,
            "align_self": null,
            "height": null,
            "min_height": null,
            "padding": null,
            "grid_auto_rows": null,
            "grid_gap": null,
            "max_width": null,
            "order": null,
            "_view_module_version": "1.2.0",
            "grid_template_areas": null,
            "object_position": null,
            "object_fit": null,
            "grid_auto_columns": null,
            "margin": null,
            "display": null,
            "left": null
          }
        }
      }
    }
  },
  "nbformat": 4,
  "nbformat_minor": 0
}