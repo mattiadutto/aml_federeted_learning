{
 "cells": [
  {
   "cell_type": "code",
   "execution_count": null,
   "metadata": {
    "execution": {
     "iopub.execute_input": "2022-01-20T19:31:47.943565Z",
     "iopub.status.busy": "2022-01-20T19:31:47.943297Z",
     "iopub.status.idle": "2022-01-20T19:31:47.949861Z",
     "shell.execute_reply": "2022-01-20T19:31:47.946690Z",
     "shell.execute_reply.started": "2022-01-20T19:31:47.943529Z"
    },
    "trusted": true
   },
   "outputs": [],
   "source": [
    "import torch\n",
    "import torchvision\n",
    "import torchvision.transforms as transforms"
   ]
  },
  {
   "cell_type": "code",
   "execution_count": null,
   "metadata": {
    "execution": {
     "iopub.execute_input": "2022-01-20T19:31:47.951818Z",
     "iopub.status.busy": "2022-01-20T19:31:47.951441Z",
     "iopub.status.idle": "2022-01-20T19:31:47.961866Z",
     "shell.execute_reply": "2022-01-20T19:31:47.961077Z",
     "shell.execute_reply.started": "2022-01-20T19:31:47.951780Z"
    },
    "trusted": true
   },
   "outputs": [],
   "source": [
    "config = {\n",
    "    \"EPOCH\": 300,\n",
    "    \"BATCH_SIZE\": 50,\n",
    "    \"VALIDATION_BATCH_SIZE\": 500,\n",
    "    \"DEVICE\": torch.device(\"cuda\" if torch.cuda.is_available() else \"cpu\"),\n",
    "    \"NUM_STEPS\": 1000,\n",
    "    \"AUGMENTATION_PROB\": 0.5,\n",
    "}"
   ]
  },
  {
   "cell_type": "code",
   "execution_count": null,
   "metadata": {
    "execution": {
     "iopub.execute_input": "2022-01-20T19:31:47.966333Z",
     "iopub.status.busy": "2022-01-20T19:31:47.965691Z",
     "iopub.status.idle": "2022-01-20T19:31:47.987786Z",
     "shell.execute_reply": "2022-01-20T19:31:47.987140Z",
     "shell.execute_reply.started": "2022-01-20T19:31:47.966299Z"
    },
    "trusted": true
   },
   "outputs": [],
   "source": [
    "import torch.nn as nn\n",
    "import torch.nn.functional as F\n",
    "\n",
    "\n",
    "class Net(nn.Module):\n",
    "    def __init__(self):\n",
    "        super(Net, self).__init__()\n",
    "        self.conv1 = nn.Conv2d(3, 64, 5)\n",
    "        self.conv2 = nn.Conv2d(64, 64, 5)\n",
    "        # size = 16 // 4 - 3\n",
    "        self.fc1 = nn.Linear(64 * 5 * 5, 384)\n",
    "        self.fc2 = nn.Linear(384, 192)\n",
    "        self.fc3 = nn.Linear(192, 10)\n",
    "\n",
    "    def forward(self, x):\n",
    "        x = F.max_pool2d(F.relu(self.conv1(x)), (2, 2))\n",
    "        # x = self.pool(F.relu(self.conv1(x)))\n",
    "        # x = self.pool(F.relu(self.conv2(x)))\n",
    "        x = F.max_pool2d(F.relu(self.conv2(x)), 2)\n",
    "        x = torch.flatten(x, 1)  # flatten all dimensions except batch\n",
    "        x = F.relu(self.fc1(x))\n",
    "        x = F.relu(self.fc2(x))\n",
    "        x = self.fc3(x)\n",
    "        return x\n",
    "\n",
    "\n",
    "net = Net()\n",
    "net = net.to(config[\"DEVICE\"])"
   ]
  },
  {
   "cell_type": "code",
   "execution_count": null,
   "metadata": {
    "execution": {
     "iopub.execute_input": "2022-01-20T19:31:47.989594Z",
     "iopub.status.busy": "2022-01-20T19:31:47.989350Z",
     "iopub.status.idle": "2022-01-20T19:31:49.557749Z",
     "shell.execute_reply": "2022-01-20T19:31:49.556978Z",
     "shell.execute_reply.started": "2022-01-20T19:31:47.989561Z"
    },
    "trusted": true
   },
   "outputs": [],
   "source": [
    "random_transform = transforms.Compose(\n",
    "    [\n",
    "        transforms.RandomCrop(32, padding=4),\n",
    "        transforms.RandomHorizontalFlip(1),\n",
    "        transforms.ColorJitter(0.9, 0.9),\n",
    "    ]\n",
    ")\n",
    "\n",
    "# test_transform = transforms.Compose([\n",
    "#     transforms.ToTensor(),\n",
    "#     transforms.Normalize(mean=[0.491, 0.482, 0.447], std=[0.247, 0.243, 0.262]),\n",
    "# ])\n",
    "\n",
    "train_set = torchvision.datasets.CIFAR10(\n",
    "    root=\"./data\",\n",
    "    train=True,\n",
    "    download=True,\n",
    "    transform=transforms.Compose(\n",
    "        [\n",
    "            transforms.ToTensor(),\n",
    "            transforms.RandomApply([random_transform], config[\"AUGMENTATION_PROB\"]),\n",
    "            transforms.Normalize(mean=[0.491, 0.482, 0.447], std=[0.247, 0.243, 0.262]),\n",
    "        ]\n",
    "    ),\n",
    ")\n",
    "\n",
    "train_loader = torch.utils.data.DataLoader(\n",
    "    train_set, batch_size=config[\"BATCH_SIZE\"], shuffle=True, num_workers=2\n",
    ")\n",
    "\n",
    "test_set = torchvision.datasets.CIFAR10(\n",
    "    root=\"./data\",\n",
    "    train=False,\n",
    "    download=True,\n",
    "    transform=transforms.Compose(\n",
    "        [\n",
    "            transforms.ToTensor(),\n",
    "            transforms.Normalize(mean=[0.491, 0.482, 0.447], std=[0.247, 0.243, 0.262]),\n",
    "        ]\n",
    "    ),\n",
    ")\n",
    "\n",
    "test_loader = torch.utils.data.DataLoader(\n",
    "    test_set, batch_size=config[\"VALIDATION_BATCH_SIZE\"], shuffle=False, num_workers=2\n",
    ")"
   ]
  },
  {
   "cell_type": "code",
   "execution_count": null,
   "metadata": {
    "execution": {
     "iopub.execute_input": "2022-01-20T19:31:49.559708Z",
     "iopub.status.busy": "2022-01-20T19:31:49.559434Z",
     "iopub.status.idle": "2022-01-20T19:31:49.566065Z",
     "shell.execute_reply": "2022-01-20T19:31:49.565389Z",
     "shell.execute_reply.started": "2022-01-20T19:31:49.559661Z"
    },
    "trusted": true
   },
   "outputs": [],
   "source": [
    "import torch.optim as optim\n",
    "from torch.optim.lr_scheduler import ReduceLROnPlateau\n",
    "\n",
    "criterion = nn.CrossEntropyLoss(reduction='sum')\n",
    "optimizer = optim.SGD(net.parameters(), lr=0.01, momentum=0.9, weight_decay=4e-4)\n",
    "\n",
    "scheduler = ReduceLROnPlateau(optimizer, \"min\", factor=0.5, min_lr=1e-6, verbose=True)"
   ]
  },
  {
   "cell_type": "code",
   "execution_count": null,
   "metadata": {
    "execution": {
     "iopub.execute_input": "2022-01-20T19:31:49.567909Z",
     "iopub.status.busy": "2022-01-20T19:31:49.567448Z",
     "iopub.status.idle": "2022-01-20T19:31:49.576537Z",
     "shell.execute_reply": "2022-01-20T19:31:49.575776Z",
     "shell.execute_reply.started": "2022-01-20T19:31:49.567872Z"
    },
    "trusted": true
   },
   "outputs": [],
   "source": [
    "def compute_loss_accuracy(net, dataloader):\n",
    "    correct = 0\n",
    "\n",
    "    with torch.no_grad():\n",
    "        loss, n = 0, 0\n",
    "        \n",
    "        for data in dataloader:\n",
    "            images, labels = data\n",
    "            images = images.to(config[\"DEVICE\"])\n",
    "            labels = labels.to(config[\"DEVICE\"])\n",
    "\n",
    "            outputs = net(images)\n",
    "            loss += criterion(outputs, labels)\n",
    "            n += labels.size(0)\n",
    "            \n",
    "            _, predicted = torch.max(outputs.data, 1)\n",
    "            correct += (predicted == labels).sum().item()\n",
    "\n",
    "    return loss / n, 100 * correct / n"
   ]
  },
  {
   "cell_type": "code",
   "execution_count": null,
   "metadata": {
    "execution": {
     "iopub.execute_input": "2022-01-20T19:31:49.579454Z",
     "iopub.status.busy": "2022-01-20T19:31:49.579251Z",
     "iopub.status.idle": "2022-01-20T20:51:35.411009Z",
     "shell.execute_reply": "2022-01-20T20:51:35.409863Z",
     "shell.execute_reply.started": "2022-01-20T19:31:49.579430Z"
    },
    "trusted": true
   },
   "outputs": [],
   "source": [
    "from tqdm.notebook import tqdm\n",
    "\n",
    "# running_loss = 0.0\n",
    "for j in tqdm(range(config[\"EPOCH\"])):\n",
    "    epoch_loss, n = 0, 0\n",
    "\n",
    "    for i, data in enumerate(train_loader, 0):\n",
    "        inputs, labels = data\n",
    "        inputs = inputs.to(config[\"DEVICE\"])\n",
    "        labels = labels.to(config[\"DEVICE\"])\n",
    "\n",
    "        optimizer.zero_grad()\n",
    "\n",
    "        outputs = net(inputs)\n",
    "        train_loss = criterion(outputs, labels)\n",
    "\n",
    "        epoch_loss += train_loss\n",
    "        n += labels.size(0)\n",
    "\n",
    "        train_loss = train_loss / labels.size(0)\n",
    "        train_loss.backward()\n",
    "        optimizer.step()\n",
    "\n",
    "    # compute the average training loss during this epoch\n",
    "    epoch_loss = epoch_loss / n\n",
    "\n",
    "    test_loss, test_acc = compute_loss_accuracy(net, test_loader)\n",
    "\n",
    "    scheduler.step(test_loss)\n",
    "    print(f\"Epoch {j + 1:3d}: train_loss={epoch_loss:.4f}, test_loss={test_loss:.4f}, test_acc={test_acc:.2f}\")"
   ]
  },
  {
   "cell_type": "code",
   "execution_count": null,
   "metadata": {
    "execution": {
     "iopub.status.busy": "2022-01-20T20:51:35.412366Z",
     "iopub.status.idle": "2022-01-20T20:51:35.412948Z",
     "shell.execute_reply": "2022-01-20T20:51:35.412725Z",
     "shell.execute_reply.started": "2022-01-20T20:51:35.412689Z"
    },
    "trusted": true
   },
   "outputs": [],
   "source": [
    "correct = 0\n",
    "total = 0\n",
    "with torch.no_grad():\n",
    "    for data in test_loader:\n",
    "        images, labels = data\n",
    "        images = images.to(config[\"DEVICE\"])\n",
    "        labels = labels.to(config[\"DEVICE\"])\n",
    "\n",
    "        outputs = net(images)\n",
    "        _, predicted = torch.max(outputs.data, 1)\n",
    "        total += labels.size(0)\n",
    "        correct += (predicted == labels).sum().item()\n",
    "\n",
    "print(\n",
    "    f\"Accuracy on {total} images = {100 * correct // total} % with {correct} images classified\"\n",
    ")"
   ]
  }
 ],
 "metadata": {
  "kernelspec": {
   "display_name": "Python 3",
   "language": "python",
   "name": "python3"
  },
  "language_info": {
   "codemirror_mode": {
    "name": "ipython",
    "version": 3
   },
   "file_extension": ".py",
   "mimetype": "text/x-python",
   "name": "python",
   "nbconvert_exporter": "python",
   "pygments_lexer": "ipython3",
   "version": "3.9.9"
  }
 },
 "nbformat": 4,
 "nbformat_minor": 4
}
