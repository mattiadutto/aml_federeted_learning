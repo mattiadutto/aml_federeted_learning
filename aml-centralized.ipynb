{
 "cells": [
  {
   "cell_type": "code",
   "execution_count": 1,
   "metadata": {
    "execution": {
     "iopub.execute_input": "2022-01-20T19:31:47.943565Z",
     "iopub.status.busy": "2022-01-20T19:31:47.943297Z",
     "iopub.status.idle": "2022-01-20T19:31:47.949861Z",
     "shell.execute_reply": "2022-01-20T19:31:47.946690Z",
     "shell.execute_reply.started": "2022-01-20T19:31:47.943529Z"
    },
    "trusted": true
   },
   "outputs": [],
   "source": [
    "import torch\n",
    "import torchvision\n",
    "import torchvision.transforms as transforms"
   ]
  },
  {
   "cell_type": "code",
   "execution_count": 2,
   "metadata": {
    "execution": {
     "iopub.execute_input": "2022-01-20T19:31:47.951818Z",
     "iopub.status.busy": "2022-01-20T19:31:47.951441Z",
     "iopub.status.idle": "2022-01-20T19:31:47.961866Z",
     "shell.execute_reply": "2022-01-20T19:31:47.961077Z",
     "shell.execute_reply.started": "2022-01-20T19:31:47.951780Z"
    },
    "trusted": true
   },
   "outputs": [],
   "source": [
    "config = {\n",
    "    \"EPOCH\": 300,\n",
    "    \"BATCH_SIZE\": 50,\n",
    "    \"VALIDATION_BATCH_SIZE\": 500,\n",
    "    \"DEVICE\": torch.device(\"cuda\" if torch.cuda.is_available() else \"cpu\"),\n",
    "    \"NUM_STEPS\": 1000,\n",
    "    \"AUGMENTATION_PROB\": 0.5,\n",
    "}"
   ]
  },
  {
   "cell_type": "code",
   "execution_count": 3,
   "metadata": {
    "execution": {
     "iopub.execute_input": "2022-01-20T19:31:47.966333Z",
     "iopub.status.busy": "2022-01-20T19:31:47.965691Z",
     "iopub.status.idle": "2022-01-20T19:31:47.987786Z",
     "shell.execute_reply": "2022-01-20T19:31:47.987140Z",
     "shell.execute_reply.started": "2022-01-20T19:31:47.966299Z"
    },
    "trusted": true
   },
   "outputs": [],
   "source": [
    "import torch.nn as nn\n",
    "import torch.nn.functional as F\n",
    "\n",
    "\n",
    "class Net(nn.Module):\n",
    "    def __init__(self):\n",
    "        super(Net, self).__init__()\n",
    "        self.conv1 = nn.Conv2d(3, 64, 5)\n",
    "        self.conv2 = nn.Conv2d(64, 64, 5)\n",
    "        # size = 16 // 4 - 3\n",
    "        self.fc1 = nn.Linear(64 * 5 * 5, 384)\n",
    "        self.fc2 = nn.Linear(384, 192)\n",
    "        self.fc3 = nn.Linear(192, 10)\n",
    "\n",
    "    def forward(self, x):\n",
    "        x = F.max_pool2d(F.relu(self.conv1(x)), (2, 2))\n",
    "        # x = self.pool(F.relu(self.conv1(x)))\n",
    "        # x = self.pool(F.relu(self.conv2(x)))\n",
    "        x = F.max_pool2d(F.relu(self.conv2(x)), 2)\n",
    "        x = torch.flatten(x, 1)  # flatten all dimensions except batch\n",
    "        x = F.relu(self.fc1(x))\n",
    "        x = F.relu(self.fc2(x))\n",
    "        x = self.fc3(x)\n",
    "        return x\n",
    "\n",
    "\n",
    "net = Net()\n",
    "net = net.to(config[\"DEVICE\"])"
   ]
  },
  {
   "cell_type": "code",
   "execution_count": 4,
   "metadata": {
    "execution": {
     "iopub.execute_input": "2022-01-20T19:31:47.989594Z",
     "iopub.status.busy": "2022-01-20T19:31:47.989350Z",
     "iopub.status.idle": "2022-01-20T19:31:49.557749Z",
     "shell.execute_reply": "2022-01-20T19:31:49.556978Z",
     "shell.execute_reply.started": "2022-01-20T19:31:47.989561Z"
    },
    "trusted": true
   },
   "outputs": [
    {
     "name": "stdout",
     "output_type": "stream",
     "text": [
      "Files already downloaded and verified\n",
      "Files already downloaded and verified\n"
     ]
    }
   ],
   "source": [
    "random_transform = transforms.Compose(\n",
    "    [\n",
    "        transforms.RandomCrop(32, padding=4),\n",
    "        transforms.RandomHorizontalFlip(1),\n",
    "        transforms.ColorJitter(0.9, 0.9),\n",
    "    ]\n",
    ")\n",
    "\n",
    "# test_transform = transforms.Compose([\n",
    "#     transforms.ToTensor(),\n",
    "#     transforms.Normalize(mean=[0.491, 0.482, 0.447], std=[0.247, 0.243, 0.262]),\n",
    "# ])\n",
    "\n",
    "train_set = torchvision.datasets.CIFAR10(\n",
    "    root=\"./data\",\n",
    "    train=True,\n",
    "    download=True,\n",
    "    transform=transforms.Compose(\n",
    "        [\n",
    "            transforms.ToTensor(),\n",
    "            transforms.RandomApply([random_transform], config[\"AUGMENTATION_PROB\"]),\n",
    "            transforms.Normalize(mean=[0.491, 0.482, 0.447], std=[0.247, 0.243, 0.262]),\n",
    "        ]\n",
    "    ),\n",
    ")\n",
    "\n",
    "train_loader = torch.utils.data.DataLoader(\n",
    "    train_set, batch_size=config[\"BATCH_SIZE\"], shuffle=True, num_workers=2\n",
    ")\n",
    "\n",
    "test_set = torchvision.datasets.CIFAR10(\n",
    "    root=\"./data\",\n",
    "    train=False,\n",
    "    download=True,\n",
    "    transform=transforms.Compose(\n",
    "        [\n",
    "            transforms.ToTensor(),\n",
    "            transforms.Normalize(mean=[0.491, 0.482, 0.447], std=[0.247, 0.243, 0.262]),\n",
    "        ]\n",
    "    ),\n",
    ")\n",
    "\n",
    "test_loader = torch.utils.data.DataLoader(\n",
    "    test_set, batch_size=config[\"VALIDATION_BATCH_SIZE\"], shuffle=False, num_workers=2\n",
    ")"
   ]
  },
  {
   "cell_type": "code",
   "execution_count": 5,
   "metadata": {
    "execution": {
     "iopub.execute_input": "2022-01-20T19:31:49.559708Z",
     "iopub.status.busy": "2022-01-20T19:31:49.559434Z",
     "iopub.status.idle": "2022-01-20T19:31:49.566065Z",
     "shell.execute_reply": "2022-01-20T19:31:49.565389Z",
     "shell.execute_reply.started": "2022-01-20T19:31:49.559661Z"
    },
    "trusted": true
   },
   "outputs": [],
   "source": [
    "import torch.optim as optim\n",
    "from torch.optim.lr_scheduler import ReduceLROnPlateau\n",
    "\n",
    "criterion = nn.CrossEntropyLoss(reduction='sum')\n",
    "optimizer = optim.SGD(net.parameters(), lr=0.01, momentum=0.9, weight_decay=4e-4)\n",
    "\n",
    "scheduler = ReduceLROnPlateau(optimizer, \"min\", factor=0.5, min_lr=1e-6, verbose=True)"
   ]
  },
  {
   "cell_type": "code",
   "execution_count": 6,
   "metadata": {
    "execution": {
     "iopub.execute_input": "2022-01-20T19:31:49.567909Z",
     "iopub.status.busy": "2022-01-20T19:31:49.567448Z",
     "iopub.status.idle": "2022-01-20T19:31:49.576537Z",
     "shell.execute_reply": "2022-01-20T19:31:49.575776Z",
     "shell.execute_reply.started": "2022-01-20T19:31:49.567872Z"
    },
    "trusted": true
   },
   "outputs": [],
   "source": [
    "def compute_loss_accuracy(net, dataloader):\n",
    "    correct = 0\n",
    "\n",
    "    with torch.no_grad():\n",
    "        loss, n = 0, 0\n",
    "        \n",
    "        for data in dataloader:\n",
    "            images, labels = data\n",
    "            images = images.to(config[\"DEVICE\"])\n",
    "            labels = labels.to(config[\"DEVICE\"])\n",
    "\n",
    "            outputs = net(images)\n",
    "            loss += criterion(outputs, labels)\n",
    "            n += labels.size(0)\n",
    "            \n",
    "            _, predicted = torch.max(outputs.data, 1)\n",
    "            correct += (predicted == labels).sum().item()\n",
    "\n",
    "    return loss / n, 100 * correct / n"
   ]
  },
  {
   "cell_type": "code",
   "execution_count": 7,
   "metadata": {
    "execution": {
     "iopub.execute_input": "2022-01-20T19:31:49.579454Z",
     "iopub.status.busy": "2022-01-20T19:31:49.579251Z",
     "iopub.status.idle": "2022-01-20T20:51:35.411009Z",
     "shell.execute_reply": "2022-01-20T20:51:35.409863Z",
     "shell.execute_reply.started": "2022-01-20T19:31:49.579430Z"
    },
    "trusted": true
   },
   "outputs": [
    {
     "data": {
      "application/vnd.jupyter.widget-view+json": {
       "model_id": "ba026ffc83c5435e841b9eaaf0516b27",
       "version_major": 2,
       "version_minor": 0
      },
      "text/plain": [
       "  0%|          | 0/300 [00:00<?, ?it/s]"
      ]
     },
     "metadata": {},
     "output_type": "display_data"
    },
    {
     "name": "stdout",
     "output_type": "stream",
     "text": [
      "Epoch   1: train_loss=1.7677, test_loss=1.4090, test_acc=48.93\n",
      "Epoch   2: train_loss=1.4205, test_loss=1.1213, test_acc=60.89\n",
      "Epoch   3: train_loss=1.2723, test_loss=1.0132, test_acc=64.06\n",
      "Epoch   4: train_loss=1.1535, test_loss=0.9413, test_acc=67.63\n",
      "Epoch   5: train_loss=1.0811, test_loss=0.9117, test_acc=68.90\n",
      "Epoch   6: train_loss=1.0180, test_loss=0.8992, test_acc=69.34\n",
      "Epoch   7: train_loss=0.9858, test_loss=0.8539, test_acc=70.51\n",
      "Epoch   8: train_loss=0.9421, test_loss=0.8220, test_acc=72.32\n",
      "Epoch   9: train_loss=0.9088, test_loss=0.8003, test_acc=72.90\n",
      "Epoch  10: train_loss=0.8936, test_loss=0.8105, test_acc=72.10\n",
      "Epoch  11: train_loss=0.8605, test_loss=0.8108, test_acc=73.01\n",
      "Epoch  12: train_loss=0.8410, test_loss=0.8375, test_acc=73.17\n",
      "Epoch  13: train_loss=0.8151, test_loss=0.7700, test_acc=73.82\n",
      "Epoch  14: train_loss=0.8128, test_loss=0.8233, test_acc=72.49\n",
      "Epoch  15: train_loss=0.7831, test_loss=0.7914, test_acc=74.64\n",
      "Epoch  16: train_loss=0.7724, test_loss=0.7957, test_acc=74.79\n",
      "Epoch  17: train_loss=0.7616, test_loss=0.8069, test_acc=74.33\n",
      "Epoch  18: train_loss=0.7528, test_loss=0.8497, test_acc=72.56\n",
      "Epoch  19: train_loss=0.7292, test_loss=0.8117, test_acc=75.20\n",
      "Epoch  20: train_loss=0.7249, test_loss=0.7615, test_acc=75.19\n",
      "Epoch  21: train_loss=0.7146, test_loss=0.7938, test_acc=74.82\n",
      "Epoch  22: train_loss=0.7036, test_loss=0.7511, test_acc=76.07\n",
      "Epoch  23: train_loss=0.7000, test_loss=0.7757, test_acc=74.77\n",
      "Epoch  24: train_loss=0.6938, test_loss=0.7793, test_acc=74.74\n",
      "Epoch  25: train_loss=0.6803, test_loss=0.8306, test_acc=74.33\n",
      "Epoch  26: train_loss=0.6789, test_loss=0.8450, test_acc=74.43\n",
      "Epoch  27: train_loss=0.6691, test_loss=0.7971, test_acc=75.62\n",
      "Epoch  28: train_loss=0.6662, test_loss=0.8011, test_acc=75.17\n",
      "Epoch  29: train_loss=0.6566, test_loss=0.8113, test_acc=75.40\n",
      "Epoch  30: train_loss=0.6509, test_loss=0.8067, test_acc=75.34\n",
      "Epoch  31: train_loss=0.6480, test_loss=0.7641, test_acc=75.22\n",
      "Epoch  32: train_loss=0.6484, test_loss=0.8153, test_acc=75.63\n",
      "Epoch    33: reducing learning rate of group 0 to 5.0000e-03.\n",
      "Epoch  33: train_loss=0.6450, test_loss=0.7518, test_acc=76.54\n",
      "Epoch  34: train_loss=0.5179, test_loss=0.7172, test_acc=78.67\n",
      "Epoch  35: train_loss=0.4884, test_loss=0.7604, test_acc=78.29\n",
      "Epoch  36: train_loss=0.4734, test_loss=0.7323, test_acc=78.38\n",
      "Epoch  37: train_loss=0.4585, test_loss=0.7603, test_acc=79.15\n",
      "Epoch  38: train_loss=0.4578, test_loss=0.7490, test_acc=78.73\n",
      "Epoch  39: train_loss=0.4552, test_loss=0.7775, test_acc=79.17\n",
      "Epoch  40: train_loss=0.4421, test_loss=0.8026, test_acc=79.10\n",
      "Epoch  41: train_loss=0.4468, test_loss=0.7411, test_acc=78.44\n",
      "Epoch  42: train_loss=0.4359, test_loss=0.7574, test_acc=78.91\n",
      "Epoch  43: train_loss=0.4378, test_loss=0.8240, test_acc=78.48\n",
      "Epoch  44: train_loss=0.4413, test_loss=0.7473, test_acc=78.87\n",
      "Epoch    45: reducing learning rate of group 0 to 2.5000e-03.\n",
      "Epoch  45: train_loss=0.4306, test_loss=0.8225, test_acc=78.54\n",
      "Epoch  46: train_loss=0.3681, test_loss=0.7796, test_acc=79.97\n",
      "Epoch  47: train_loss=0.3603, test_loss=0.7580, test_acc=79.80\n",
      "Epoch  48: train_loss=0.3530, test_loss=0.8114, test_acc=80.28\n",
      "Epoch  49: train_loss=0.3430, test_loss=0.7856, test_acc=80.04\n",
      "Epoch  50: train_loss=0.3420, test_loss=0.8264, test_acc=80.03\n",
      "Epoch  51: train_loss=0.3398, test_loss=0.7736, test_acc=79.87\n",
      "Epoch  52: train_loss=0.3360, test_loss=0.7872, test_acc=79.90\n",
      "Epoch  53: train_loss=0.3332, test_loss=0.8096, test_acc=80.09\n",
      "Epoch  54: train_loss=0.3343, test_loss=0.8456, test_acc=80.20\n",
      "Epoch  55: train_loss=0.3313, test_loss=0.8453, test_acc=79.98\n",
      "Epoch    56: reducing learning rate of group 0 to 1.2500e-03.\n",
      "Epoch  56: train_loss=0.3234, test_loss=0.8087, test_acc=80.01\n",
      "Epoch  57: train_loss=0.2935, test_loss=0.8294, test_acc=80.74\n",
      "Epoch  58: train_loss=0.2885, test_loss=0.8010, test_acc=80.95\n",
      "Epoch  59: train_loss=0.2852, test_loss=0.7818, test_acc=80.92\n",
      "Epoch  60: train_loss=0.2898, test_loss=0.8091, test_acc=81.15\n",
      "Epoch  61: train_loss=0.2812, test_loss=0.8176, test_acc=81.03\n",
      "Epoch  62: train_loss=0.2815, test_loss=0.7981, test_acc=81.39\n",
      "Epoch  63: train_loss=0.2807, test_loss=0.7623, test_acc=80.88\n",
      "Epoch  64: train_loss=0.2781, test_loss=0.8187, test_acc=81.26\n",
      "Epoch  65: train_loss=0.2687, test_loss=0.7984, test_acc=81.09\n",
      "Epoch  66: train_loss=0.2737, test_loss=0.8143, test_acc=81.10\n",
      "Epoch    67: reducing learning rate of group 0 to 6.2500e-04.\n",
      "Epoch  67: train_loss=0.2739, test_loss=0.7811, test_acc=81.25\n",
      "Epoch  68: train_loss=0.2620, test_loss=0.7840, test_acc=81.38\n",
      "Epoch  69: train_loss=0.2464, test_loss=0.8073, test_acc=81.36\n",
      "Epoch  70: train_loss=0.2516, test_loss=0.7840, test_acc=81.52\n",
      "Epoch  71: train_loss=0.2510, test_loss=0.7784, test_acc=81.56\n",
      "Epoch  72: train_loss=0.2463, test_loss=0.7859, test_acc=81.60\n",
      "Epoch  73: train_loss=0.2435, test_loss=0.7687, test_acc=81.66\n",
      "Epoch  74: train_loss=0.2481, test_loss=0.7862, test_acc=81.55\n",
      "Epoch  75: train_loss=0.2475, test_loss=0.7901, test_acc=81.71\n",
      "Epoch  76: train_loss=0.2451, test_loss=0.7752, test_acc=81.77\n",
      "Epoch  77: train_loss=0.2433, test_loss=0.7784, test_acc=81.42\n",
      "Epoch    78: reducing learning rate of group 0 to 3.1250e-04.\n",
      "Epoch  78: train_loss=0.2466, test_loss=0.8061, test_acc=81.31\n",
      "Epoch  79: train_loss=0.2306, test_loss=0.8008, test_acc=81.56\n",
      "Epoch  80: train_loss=0.2333, test_loss=0.8055, test_acc=81.60\n",
      "Epoch  81: train_loss=0.2311, test_loss=0.8291, test_acc=81.58\n",
      "Epoch  82: train_loss=0.2292, test_loss=0.7893, test_acc=81.59\n",
      "Epoch  83: train_loss=0.2276, test_loss=0.8067, test_acc=81.62\n",
      "Epoch  84: train_loss=0.2246, test_loss=0.8290, test_acc=81.73\n",
      "Epoch  85: train_loss=0.2278, test_loss=0.8084, test_acc=81.51\n",
      "Epoch  86: train_loss=0.2319, test_loss=0.8268, test_acc=81.28\n",
      "Epoch  87: train_loss=0.2260, test_loss=0.7969, test_acc=81.56\n",
      "Epoch  88: train_loss=0.2280, test_loss=0.8077, test_acc=81.71\n",
      "Epoch    89: reducing learning rate of group 0 to 1.5625e-04.\n",
      "Epoch  89: train_loss=0.2248, test_loss=0.8087, test_acc=81.47\n",
      "Epoch  90: train_loss=0.2232, test_loss=0.8111, test_acc=81.68\n",
      "Epoch  91: train_loss=0.2227, test_loss=0.7922, test_acc=81.52\n",
      "Epoch  92: train_loss=0.2203, test_loss=0.8041, test_acc=81.70\n",
      "Epoch  93: train_loss=0.2230, test_loss=0.8198, test_acc=81.61\n",
      "Epoch  94: train_loss=0.2212, test_loss=0.8055, test_acc=81.63\n",
      "Epoch  95: train_loss=0.2207, test_loss=0.8200, test_acc=81.63\n",
      "Epoch  96: train_loss=0.2187, test_loss=0.8117, test_acc=81.70\n",
      "Epoch  97: train_loss=0.2191, test_loss=0.8013, test_acc=81.75\n",
      "Epoch  98: train_loss=0.2214, test_loss=0.8037, test_acc=81.81\n",
      "Epoch  99: train_loss=0.2195, test_loss=0.8108, test_acc=81.71\n",
      "Epoch   100: reducing learning rate of group 0 to 7.8125e-05.\n",
      "Epoch 100: train_loss=0.2176, test_loss=0.8124, test_acc=81.76\n",
      "Epoch 101: train_loss=0.2131, test_loss=0.8082, test_acc=81.82\n",
      "Epoch 102: train_loss=0.2108, test_loss=0.8146, test_acc=81.78\n",
      "Epoch 103: train_loss=0.2169, test_loss=0.8100, test_acc=81.70\n",
      "Epoch 104: train_loss=0.2159, test_loss=0.8061, test_acc=81.65\n",
      "Epoch 105: train_loss=0.2150, test_loss=0.8072, test_acc=81.63\n",
      "Epoch 106: train_loss=0.2139, test_loss=0.8149, test_acc=81.77\n",
      "Epoch 107: train_loss=0.2159, test_loss=0.8136, test_acc=81.54\n",
      "Epoch 108: train_loss=0.2168, test_loss=0.8140, test_acc=81.74\n",
      "Epoch 109: train_loss=0.2140, test_loss=0.8138, test_acc=81.66\n",
      "Epoch 110: train_loss=0.2127, test_loss=0.8174, test_acc=81.52\n",
      "Epoch   111: reducing learning rate of group 0 to 3.9063e-05.\n",
      "Epoch 111: train_loss=0.2153, test_loss=0.8046, test_acc=81.73\n",
      "Epoch 112: train_loss=0.2137, test_loss=0.8155, test_acc=81.70\n",
      "Epoch 113: train_loss=0.2117, test_loss=0.8169, test_acc=81.55\n",
      "Epoch 114: train_loss=0.2112, test_loss=0.8147, test_acc=81.68\n"
     ]
    },
    {
     "ename": "KeyboardInterrupt",
     "evalue": "",
     "output_type": "error",
     "traceback": [
      "\u001b[0;31m---------------------------------------------------------------------------\u001b[0m",
      "\u001b[0;31mKeyboardInterrupt\u001b[0m                         Traceback (most recent call last)",
      "\u001b[0;32m/tmp/ipykernel_82898/1726080560.py\u001b[0m in \u001b[0;36m<module>\u001b[0;34m\u001b[0m\n\u001b[1;32m      5\u001b[0m     \u001b[0mepoch_loss\u001b[0m\u001b[0;34m,\u001b[0m \u001b[0mn\u001b[0m \u001b[0;34m=\u001b[0m \u001b[0;36m0\u001b[0m\u001b[0;34m,\u001b[0m \u001b[0;36m0\u001b[0m\u001b[0;34m\u001b[0m\u001b[0;34m\u001b[0m\u001b[0m\n\u001b[1;32m      6\u001b[0m \u001b[0;34m\u001b[0m\u001b[0m\n\u001b[0;32m----> 7\u001b[0;31m     \u001b[0;32mfor\u001b[0m \u001b[0mi\u001b[0m\u001b[0;34m,\u001b[0m \u001b[0mdata\u001b[0m \u001b[0;32min\u001b[0m \u001b[0menumerate\u001b[0m\u001b[0;34m(\u001b[0m\u001b[0mtrain_loader\u001b[0m\u001b[0;34m,\u001b[0m \u001b[0;36m0\u001b[0m\u001b[0;34m)\u001b[0m\u001b[0;34m:\u001b[0m\u001b[0;34m\u001b[0m\u001b[0;34m\u001b[0m\u001b[0m\n\u001b[0m\u001b[1;32m      8\u001b[0m         \u001b[0minputs\u001b[0m\u001b[0;34m,\u001b[0m \u001b[0mlabels\u001b[0m \u001b[0;34m=\u001b[0m \u001b[0mdata\u001b[0m\u001b[0;34m\u001b[0m\u001b[0;34m\u001b[0m\u001b[0m\n\u001b[1;32m      9\u001b[0m         \u001b[0minputs\u001b[0m \u001b[0;34m=\u001b[0m \u001b[0minputs\u001b[0m\u001b[0;34m.\u001b[0m\u001b[0mto\u001b[0m\u001b[0;34m(\u001b[0m\u001b[0mconfig\u001b[0m\u001b[0;34m[\u001b[0m\u001b[0;34m\"DEVICE\"\u001b[0m\u001b[0;34m]\u001b[0m\u001b[0;34m)\u001b[0m\u001b[0;34m\u001b[0m\u001b[0;34m\u001b[0m\u001b[0m\n",
      "\u001b[0;32m~/dev/py-venv/lib64/python3.9/site-packages/torch/utils/data/dataloader.py\u001b[0m in \u001b[0;36m__next__\u001b[0;34m(self)\u001b[0m\n\u001b[1;32m    519\u001b[0m             \u001b[0;32mif\u001b[0m \u001b[0mself\u001b[0m\u001b[0;34m.\u001b[0m\u001b[0m_sampler_iter\u001b[0m \u001b[0;32mis\u001b[0m \u001b[0;32mNone\u001b[0m\u001b[0;34m:\u001b[0m\u001b[0;34m\u001b[0m\u001b[0;34m\u001b[0m\u001b[0m\n\u001b[1;32m    520\u001b[0m                 \u001b[0mself\u001b[0m\u001b[0;34m.\u001b[0m\u001b[0m_reset\u001b[0m\u001b[0;34m(\u001b[0m\u001b[0;34m)\u001b[0m\u001b[0;34m\u001b[0m\u001b[0;34m\u001b[0m\u001b[0m\n\u001b[0;32m--> 521\u001b[0;31m             \u001b[0mdata\u001b[0m \u001b[0;34m=\u001b[0m \u001b[0mself\u001b[0m\u001b[0;34m.\u001b[0m\u001b[0m_next_data\u001b[0m\u001b[0;34m(\u001b[0m\u001b[0;34m)\u001b[0m\u001b[0;34m\u001b[0m\u001b[0;34m\u001b[0m\u001b[0m\n\u001b[0m\u001b[1;32m    522\u001b[0m             \u001b[0mself\u001b[0m\u001b[0;34m.\u001b[0m\u001b[0m_num_yielded\u001b[0m \u001b[0;34m+=\u001b[0m \u001b[0;36m1\u001b[0m\u001b[0;34m\u001b[0m\u001b[0;34m\u001b[0m\u001b[0m\n\u001b[1;32m    523\u001b[0m             \u001b[0;32mif\u001b[0m \u001b[0mself\u001b[0m\u001b[0;34m.\u001b[0m\u001b[0m_dataset_kind\u001b[0m \u001b[0;34m==\u001b[0m \u001b[0m_DatasetKind\u001b[0m\u001b[0;34m.\u001b[0m\u001b[0mIterable\u001b[0m \u001b[0;32mand\u001b[0m\u001b[0;31m \u001b[0m\u001b[0;31m\\\u001b[0m\u001b[0;34m\u001b[0m\u001b[0;34m\u001b[0m\u001b[0m\n",
      "\u001b[0;32m~/dev/py-venv/lib64/python3.9/site-packages/torch/utils/data/dataloader.py\u001b[0m in \u001b[0;36m_next_data\u001b[0;34m(self)\u001b[0m\n\u001b[1;32m   1184\u001b[0m \u001b[0;34m\u001b[0m\u001b[0m\n\u001b[1;32m   1185\u001b[0m             \u001b[0;32massert\u001b[0m \u001b[0;32mnot\u001b[0m \u001b[0mself\u001b[0m\u001b[0;34m.\u001b[0m\u001b[0m_shutdown\u001b[0m \u001b[0;32mand\u001b[0m \u001b[0mself\u001b[0m\u001b[0;34m.\u001b[0m\u001b[0m_tasks_outstanding\u001b[0m \u001b[0;34m>\u001b[0m \u001b[0;36m0\u001b[0m\u001b[0;34m\u001b[0m\u001b[0;34m\u001b[0m\u001b[0m\n\u001b[0;32m-> 1186\u001b[0;31m             \u001b[0midx\u001b[0m\u001b[0;34m,\u001b[0m \u001b[0mdata\u001b[0m \u001b[0;34m=\u001b[0m \u001b[0mself\u001b[0m\u001b[0;34m.\u001b[0m\u001b[0m_get_data\u001b[0m\u001b[0;34m(\u001b[0m\u001b[0;34m)\u001b[0m\u001b[0;34m\u001b[0m\u001b[0;34m\u001b[0m\u001b[0m\n\u001b[0m\u001b[1;32m   1187\u001b[0m             \u001b[0mself\u001b[0m\u001b[0;34m.\u001b[0m\u001b[0m_tasks_outstanding\u001b[0m \u001b[0;34m-=\u001b[0m \u001b[0;36m1\u001b[0m\u001b[0;34m\u001b[0m\u001b[0;34m\u001b[0m\u001b[0m\n\u001b[1;32m   1188\u001b[0m             \u001b[0;32mif\u001b[0m \u001b[0mself\u001b[0m\u001b[0;34m.\u001b[0m\u001b[0m_dataset_kind\u001b[0m \u001b[0;34m==\u001b[0m \u001b[0m_DatasetKind\u001b[0m\u001b[0;34m.\u001b[0m\u001b[0mIterable\u001b[0m\u001b[0;34m:\u001b[0m\u001b[0;34m\u001b[0m\u001b[0;34m\u001b[0m\u001b[0m\n",
      "\u001b[0;32m~/dev/py-venv/lib64/python3.9/site-packages/torch/utils/data/dataloader.py\u001b[0m in \u001b[0;36m_get_data\u001b[0;34m(self)\u001b[0m\n\u001b[1;32m   1150\u001b[0m         \u001b[0;32melse\u001b[0m\u001b[0;34m:\u001b[0m\u001b[0;34m\u001b[0m\u001b[0;34m\u001b[0m\u001b[0m\n\u001b[1;32m   1151\u001b[0m             \u001b[0;32mwhile\u001b[0m \u001b[0;32mTrue\u001b[0m\u001b[0;34m:\u001b[0m\u001b[0;34m\u001b[0m\u001b[0;34m\u001b[0m\u001b[0m\n\u001b[0;32m-> 1152\u001b[0;31m                 \u001b[0msuccess\u001b[0m\u001b[0;34m,\u001b[0m \u001b[0mdata\u001b[0m \u001b[0;34m=\u001b[0m \u001b[0mself\u001b[0m\u001b[0;34m.\u001b[0m\u001b[0m_try_get_data\u001b[0m\u001b[0;34m(\u001b[0m\u001b[0;34m)\u001b[0m\u001b[0;34m\u001b[0m\u001b[0;34m\u001b[0m\u001b[0m\n\u001b[0m\u001b[1;32m   1153\u001b[0m                 \u001b[0;32mif\u001b[0m \u001b[0msuccess\u001b[0m\u001b[0;34m:\u001b[0m\u001b[0;34m\u001b[0m\u001b[0;34m\u001b[0m\u001b[0m\n\u001b[1;32m   1154\u001b[0m                     \u001b[0;32mreturn\u001b[0m \u001b[0mdata\u001b[0m\u001b[0;34m\u001b[0m\u001b[0;34m\u001b[0m\u001b[0m\n",
      "\u001b[0;32m~/dev/py-venv/lib64/python3.9/site-packages/torch/utils/data/dataloader.py\u001b[0m in \u001b[0;36m_try_get_data\u001b[0;34m(self, timeout)\u001b[0m\n\u001b[1;32m    988\u001b[0m         \u001b[0;31m#   (bool: whether successfully get data, any: data if successful else None)\u001b[0m\u001b[0;34m\u001b[0m\u001b[0;34m\u001b[0m\u001b[0m\n\u001b[1;32m    989\u001b[0m         \u001b[0;32mtry\u001b[0m\u001b[0;34m:\u001b[0m\u001b[0;34m\u001b[0m\u001b[0;34m\u001b[0m\u001b[0m\n\u001b[0;32m--> 990\u001b[0;31m             \u001b[0mdata\u001b[0m \u001b[0;34m=\u001b[0m \u001b[0mself\u001b[0m\u001b[0;34m.\u001b[0m\u001b[0m_data_queue\u001b[0m\u001b[0;34m.\u001b[0m\u001b[0mget\u001b[0m\u001b[0;34m(\u001b[0m\u001b[0mtimeout\u001b[0m\u001b[0;34m=\u001b[0m\u001b[0mtimeout\u001b[0m\u001b[0;34m)\u001b[0m\u001b[0;34m\u001b[0m\u001b[0;34m\u001b[0m\u001b[0m\n\u001b[0m\u001b[1;32m    991\u001b[0m             \u001b[0;32mreturn\u001b[0m \u001b[0;34m(\u001b[0m\u001b[0;32mTrue\u001b[0m\u001b[0;34m,\u001b[0m \u001b[0mdata\u001b[0m\u001b[0;34m)\u001b[0m\u001b[0;34m\u001b[0m\u001b[0;34m\u001b[0m\u001b[0m\n\u001b[1;32m    992\u001b[0m         \u001b[0;32mexcept\u001b[0m \u001b[0mException\u001b[0m \u001b[0;32mas\u001b[0m \u001b[0me\u001b[0m\u001b[0;34m:\u001b[0m\u001b[0;34m\u001b[0m\u001b[0;34m\u001b[0m\u001b[0m\n",
      "\u001b[0;32m/usr/lib64/python3.9/multiprocessing/queues.py\u001b[0m in \u001b[0;36mget\u001b[0;34m(self, block, timeout)\u001b[0m\n\u001b[1;32m    111\u001b[0m                 \u001b[0;32mif\u001b[0m \u001b[0mblock\u001b[0m\u001b[0;34m:\u001b[0m\u001b[0;34m\u001b[0m\u001b[0;34m\u001b[0m\u001b[0m\n\u001b[1;32m    112\u001b[0m                     \u001b[0mtimeout\u001b[0m \u001b[0;34m=\u001b[0m \u001b[0mdeadline\u001b[0m \u001b[0;34m-\u001b[0m \u001b[0mtime\u001b[0m\u001b[0;34m.\u001b[0m\u001b[0mmonotonic\u001b[0m\u001b[0;34m(\u001b[0m\u001b[0;34m)\u001b[0m\u001b[0;34m\u001b[0m\u001b[0;34m\u001b[0m\u001b[0m\n\u001b[0;32m--> 113\u001b[0;31m                     \u001b[0;32mif\u001b[0m \u001b[0;32mnot\u001b[0m \u001b[0mself\u001b[0m\u001b[0;34m.\u001b[0m\u001b[0m_poll\u001b[0m\u001b[0;34m(\u001b[0m\u001b[0mtimeout\u001b[0m\u001b[0;34m)\u001b[0m\u001b[0;34m:\u001b[0m\u001b[0;34m\u001b[0m\u001b[0;34m\u001b[0m\u001b[0m\n\u001b[0m\u001b[1;32m    114\u001b[0m                         \u001b[0;32mraise\u001b[0m \u001b[0mEmpty\u001b[0m\u001b[0;34m\u001b[0m\u001b[0;34m\u001b[0m\u001b[0m\n\u001b[1;32m    115\u001b[0m                 \u001b[0;32melif\u001b[0m \u001b[0;32mnot\u001b[0m \u001b[0mself\u001b[0m\u001b[0;34m.\u001b[0m\u001b[0m_poll\u001b[0m\u001b[0;34m(\u001b[0m\u001b[0;34m)\u001b[0m\u001b[0;34m:\u001b[0m\u001b[0;34m\u001b[0m\u001b[0;34m\u001b[0m\u001b[0m\n",
      "\u001b[0;32m/usr/lib64/python3.9/multiprocessing/connection.py\u001b[0m in \u001b[0;36mpoll\u001b[0;34m(self, timeout)\u001b[0m\n\u001b[1;32m    260\u001b[0m         \u001b[0mself\u001b[0m\u001b[0;34m.\u001b[0m\u001b[0m_check_closed\u001b[0m\u001b[0;34m(\u001b[0m\u001b[0;34m)\u001b[0m\u001b[0;34m\u001b[0m\u001b[0;34m\u001b[0m\u001b[0m\n\u001b[1;32m    261\u001b[0m         \u001b[0mself\u001b[0m\u001b[0;34m.\u001b[0m\u001b[0m_check_readable\u001b[0m\u001b[0;34m(\u001b[0m\u001b[0;34m)\u001b[0m\u001b[0;34m\u001b[0m\u001b[0;34m\u001b[0m\u001b[0m\n\u001b[0;32m--> 262\u001b[0;31m         \u001b[0;32mreturn\u001b[0m \u001b[0mself\u001b[0m\u001b[0;34m.\u001b[0m\u001b[0m_poll\u001b[0m\u001b[0;34m(\u001b[0m\u001b[0mtimeout\u001b[0m\u001b[0;34m)\u001b[0m\u001b[0;34m\u001b[0m\u001b[0;34m\u001b[0m\u001b[0m\n\u001b[0m\u001b[1;32m    263\u001b[0m \u001b[0;34m\u001b[0m\u001b[0m\n\u001b[1;32m    264\u001b[0m     \u001b[0;32mdef\u001b[0m \u001b[0m__enter__\u001b[0m\u001b[0;34m(\u001b[0m\u001b[0mself\u001b[0m\u001b[0;34m)\u001b[0m\u001b[0;34m:\u001b[0m\u001b[0;34m\u001b[0m\u001b[0;34m\u001b[0m\u001b[0m\n",
      "\u001b[0;32m/usr/lib64/python3.9/multiprocessing/connection.py\u001b[0m in \u001b[0;36m_poll\u001b[0;34m(self, timeout)\u001b[0m\n\u001b[1;32m    427\u001b[0m \u001b[0;34m\u001b[0m\u001b[0m\n\u001b[1;32m    428\u001b[0m     \u001b[0;32mdef\u001b[0m \u001b[0m_poll\u001b[0m\u001b[0;34m(\u001b[0m\u001b[0mself\u001b[0m\u001b[0;34m,\u001b[0m \u001b[0mtimeout\u001b[0m\u001b[0;34m)\u001b[0m\u001b[0;34m:\u001b[0m\u001b[0;34m\u001b[0m\u001b[0;34m\u001b[0m\u001b[0m\n\u001b[0;32m--> 429\u001b[0;31m         \u001b[0mr\u001b[0m \u001b[0;34m=\u001b[0m \u001b[0mwait\u001b[0m\u001b[0;34m(\u001b[0m\u001b[0;34m[\u001b[0m\u001b[0mself\u001b[0m\u001b[0;34m]\u001b[0m\u001b[0;34m,\u001b[0m \u001b[0mtimeout\u001b[0m\u001b[0;34m)\u001b[0m\u001b[0;34m\u001b[0m\u001b[0;34m\u001b[0m\u001b[0m\n\u001b[0m\u001b[1;32m    430\u001b[0m         \u001b[0;32mreturn\u001b[0m \u001b[0mbool\u001b[0m\u001b[0;34m(\u001b[0m\u001b[0mr\u001b[0m\u001b[0;34m)\u001b[0m\u001b[0;34m\u001b[0m\u001b[0;34m\u001b[0m\u001b[0m\n\u001b[1;32m    431\u001b[0m \u001b[0;34m\u001b[0m\u001b[0m\n",
      "\u001b[0;32m/usr/lib64/python3.9/multiprocessing/connection.py\u001b[0m in \u001b[0;36mwait\u001b[0;34m(object_list, timeout)\u001b[0m\n\u001b[1;32m    934\u001b[0m \u001b[0;34m\u001b[0m\u001b[0m\n\u001b[1;32m    935\u001b[0m             \u001b[0;32mwhile\u001b[0m \u001b[0;32mTrue\u001b[0m\u001b[0;34m:\u001b[0m\u001b[0;34m\u001b[0m\u001b[0;34m\u001b[0m\u001b[0m\n\u001b[0;32m--> 936\u001b[0;31m                 \u001b[0mready\u001b[0m \u001b[0;34m=\u001b[0m \u001b[0mselector\u001b[0m\u001b[0;34m.\u001b[0m\u001b[0mselect\u001b[0m\u001b[0;34m(\u001b[0m\u001b[0mtimeout\u001b[0m\u001b[0;34m)\u001b[0m\u001b[0;34m\u001b[0m\u001b[0;34m\u001b[0m\u001b[0m\n\u001b[0m\u001b[1;32m    937\u001b[0m                 \u001b[0;32mif\u001b[0m \u001b[0mready\u001b[0m\u001b[0;34m:\u001b[0m\u001b[0;34m\u001b[0m\u001b[0;34m\u001b[0m\u001b[0m\n\u001b[1;32m    938\u001b[0m                     \u001b[0;32mreturn\u001b[0m \u001b[0;34m[\u001b[0m\u001b[0mkey\u001b[0m\u001b[0;34m.\u001b[0m\u001b[0mfileobj\u001b[0m \u001b[0;32mfor\u001b[0m \u001b[0;34m(\u001b[0m\u001b[0mkey\u001b[0m\u001b[0;34m,\u001b[0m \u001b[0mevents\u001b[0m\u001b[0;34m)\u001b[0m \u001b[0;32min\u001b[0m \u001b[0mready\u001b[0m\u001b[0;34m]\u001b[0m\u001b[0;34m\u001b[0m\u001b[0;34m\u001b[0m\u001b[0m\n",
      "\u001b[0;32m/usr/lib64/python3.9/selectors.py\u001b[0m in \u001b[0;36mselect\u001b[0;34m(self, timeout)\u001b[0m\n\u001b[1;32m    414\u001b[0m         \u001b[0mready\u001b[0m \u001b[0;34m=\u001b[0m \u001b[0;34m[\u001b[0m\u001b[0;34m]\u001b[0m\u001b[0;34m\u001b[0m\u001b[0;34m\u001b[0m\u001b[0m\n\u001b[1;32m    415\u001b[0m         \u001b[0;32mtry\u001b[0m\u001b[0;34m:\u001b[0m\u001b[0;34m\u001b[0m\u001b[0;34m\u001b[0m\u001b[0m\n\u001b[0;32m--> 416\u001b[0;31m             \u001b[0mfd_event_list\u001b[0m \u001b[0;34m=\u001b[0m \u001b[0mself\u001b[0m\u001b[0;34m.\u001b[0m\u001b[0m_selector\u001b[0m\u001b[0;34m.\u001b[0m\u001b[0mpoll\u001b[0m\u001b[0;34m(\u001b[0m\u001b[0mtimeout\u001b[0m\u001b[0;34m)\u001b[0m\u001b[0;34m\u001b[0m\u001b[0;34m\u001b[0m\u001b[0m\n\u001b[0m\u001b[1;32m    417\u001b[0m         \u001b[0;32mexcept\u001b[0m \u001b[0mInterruptedError\u001b[0m\u001b[0;34m:\u001b[0m\u001b[0;34m\u001b[0m\u001b[0;34m\u001b[0m\u001b[0m\n\u001b[1;32m    418\u001b[0m             \u001b[0;32mreturn\u001b[0m \u001b[0mready\u001b[0m\u001b[0;34m\u001b[0m\u001b[0;34m\u001b[0m\u001b[0m\n",
      "\u001b[0;31mKeyboardInterrupt\u001b[0m: "
     ]
    }
   ],
   "source": [
    "from tqdm.notebook import tqdm\n",
    "\n",
    "# running_loss = 0.0\n",
    "for j in tqdm(range(config[\"EPOCH\"])):\n",
    "    epoch_loss, n = 0, 0\n",
    "\n",
    "    for i, data in enumerate(train_loader, 0):\n",
    "        inputs, labels = data\n",
    "        inputs = inputs.to(config[\"DEVICE\"])\n",
    "        labels = labels.to(config[\"DEVICE\"])\n",
    "\n",
    "        optimizer.zero_grad()\n",
    "\n",
    "        outputs = net(inputs)\n",
    "        train_loss = criterion(outputs, labels)\n",
    "\n",
    "        epoch_loss += train_loss\n",
    "        n += labels.size(0)\n",
    "\n",
    "        train_loss = train_loss / labels.size(0)\n",
    "        train_loss.backward()\n",
    "        optimizer.step()\n",
    "\n",
    "    # compute the average training loss during this epoch\n",
    "    epoch_loss = epoch_loss / n\n",
    "\n",
    "    test_loss, test_acc = compute_loss_accuracy(net, test_loader)\n",
    "\n",
    "    scheduler.step(test_loss)\n",
    "    print(f\"Epoch {j + 1:3d}: train_loss={epoch_loss:.4f}, test_loss={test_loss:.4f}, test_acc={test_acc:.2f}\")"
   ]
  },
  {
   "cell_type": "code",
   "execution_count": null,
   "metadata": {
    "execution": {
     "iopub.status.busy": "2022-01-20T20:51:35.412366Z",
     "iopub.status.idle": "2022-01-20T20:51:35.412948Z",
     "shell.execute_reply": "2022-01-20T20:51:35.412725Z",
     "shell.execute_reply.started": "2022-01-20T20:51:35.412689Z"
    },
    "trusted": true
   },
   "outputs": [],
   "source": [
    "correct = 0\n",
    "total = 0\n",
    "with torch.no_grad():\n",
    "    for data in test_loader:\n",
    "        images, labels = data\n",
    "        images = images.to(config[\"DEVICE\"])\n",
    "        labels = labels.to(config[\"DEVICE\"])\n",
    "\n",
    "        outputs = net(images)\n",
    "        _, predicted = torch.max(outputs.data, 1)\n",
    "        total += labels.size(0)\n",
    "        correct += (predicted == labels).sum().item()\n",
    "\n",
    "print(\n",
    "    f\"Accuracy on {total} images = {100 * correct // total} % with {correct} images classified\"\n",
    ")"
   ]
  }
 ],
 "metadata": {
  "kernelspec": {
   "display_name": "Python 3",
   "language": "python",
   "name": "python3"
  },
  "language_info": {
   "codemirror_mode": {
    "name": "ipython",
    "version": 3
   },
   "file_extension": ".py",
   "mimetype": "text/x-python",
   "name": "python",
   "nbconvert_exporter": "python",
   "pygments_lexer": "ipython3",
   "version": "3.9.9"
  }
 },
 "nbformat": 4,
 "nbformat_minor": 4
}
